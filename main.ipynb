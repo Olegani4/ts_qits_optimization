{
 "cells": [
  {
   "cell_type": "code",
   "execution_count": 2,
   "metadata": {},
   "outputs": [],
   "source": [
    "import json\n",
    "import time\n",
    "from schedule_optimisation.optimizer import optimise_schedule\n",
    "\n",
    "def format_time(seconds):\n",
    "    hours = int(seconds) // 3600\n",
    "    minutes = (int(seconds) % 3600) // 60\n",
    "    secs = int(seconds) % 60\n",
    "    parts = []\n",
    "    if hours > 0:\n",
    "        parts.append(f\"{hours} hour{'s' if hours > 1 else ''}\")\n",
    "    if minutes > 0:\n",
    "        parts.append(f\"{minutes} minute{'s' if minutes > 1 else ''}\")\n",
    "    if secs > 0 or not parts:\n",
    "        parts.append(f\"{secs} second{'s' if secs != 1 else ''}\")\n",
    "    return ' '.join(parts)\n",
    "\n",
    "def save_summary(max_iters, tabu_tenure, end_time, start_time, metrics, algorithm, lessons_num):\n",
    "    opt_p = (metrics[\"initial_cost\"] -metrics[\"best_cost\"]) / metrics[\"initial_cost\"] * 100\n",
    "\n",
    "    summary_text = f'''\n",
    "    Algorithm: {algorithm}\n",
    "    Number of lessons: {lessons_num}\n",
    "    Number of iterations: {max_iters}\n",
    "    Tabu tenure: {tabu_tenure}\n",
    "    Elapsed time: {format_time(end_time - start_time)}\n",
    "    {'-' * 200}\n",
    "    Initial cost: {metrics[\"initial_cost\"]}\n",
    "    Initial penalties: {metrics[\"initial_penalties\"]}\n",
    "    Best cost: {metrics[\"best_cost\"]}\n",
    "    Best penalties: {metrics[\"best_penalties\"]}\n",
    "    {'-' * 200}\n",
    "    Optimized by: {round(opt_p, 2)}%\n",
    "    {'=' * 200 + '\\n'}\n",
    "    '''\n",
    "\n",
    "    with open('results_metrics.txt', 'a') as f:\n",
    "        f.write(summary_text)\n",
    "    "
   ]
  },
  {
   "cell_type": "code",
   "execution_count": 2,
   "metadata": {},
   "outputs": [],
   "source": [
    "lessons_times = json.load(open('data/lessons_times.json', 'r', encoding='utf-8'))\n",
    "\n",
    "schedule_data = json.load(open('data/test/tsi_schedule_short_TEST.json', 'r', encoding='utf-8'))\n",
    "start_date = \"2025-01-03\"\n",
    "end_date = \"2025-01-10\"\n",
    "\n",
    "# schedule_data = json.load(open('data/tsi_schedule.json', 'r', encoding='utf-8'))\n",
    "# start_date = \"2025-01-03\"\n",
    "# end_date = \"2025-05-31\""
   ]
  },
  {
   "cell_type": "code",
   "execution_count": null,
   "metadata": {},
   "outputs": [],
   "source": [
    "# iters = [0, 1, 5, 10, 20, 50, 100, 200, 500]\n",
    "# iters = [0, 1, 5, 10, 20]\n",
    "iters = [1000]\n",
    "for it in iters: \n",
    "    algorithm = 'ts'\n",
    "    max_iters = it\n",
    "    tabu_tenure = 15\n",
    "\n",
    "    start_time = time.time()\n",
    "    optimized_schedule, metrics = optimise_schedule(schedule_data=schedule_data, lessons_times=lessons_times, \n",
    "                                                    start_date=start_date, end_date=end_date,algorithm=algorithm,\n",
    "                                                    max_iters=max_iters, tabu_tenure=tabu_tenure)\n",
    "    end_time = time.time()\n",
    "\n",
    "    lessons_num = len(schedule_data)\n",
    "    save_summary(max_iters, tabu_tenure, end_time, start_time, metrics, algorithm, lessons_num)\n",
    "    print('-' * 100)"
   ]
  },
  {
   "cell_type": "code",
   "execution_count": null,
   "metadata": {},
   "outputs": [],
   "source": [
    "# iters = [0, 1, 5, 10, 20, 50, 100, 200, 500]\n",
    "# iters = [0, 1, 5, 10, 20]\n",
    "iters = [1000]\n",
    "for it in iters: \n",
    "    algorithm = 'qits'\n",
    "    max_iters = it\n",
    "    tabu_tenure = 15\n",
    "\n",
    "    start_time = time.time()\n",
    "    optimized_schedule, metrics = optimise_schedule(schedule_data=schedule_data, lessons_times=lessons_times, \n",
    "                                                    start_date=start_date, end_date=end_date,algorithm=algorithm,\n",
    "                                                    max_iters=max_iters, tabu_tenure=tabu_tenure)\n",
    "    end_time = time.time()\n",
    "\n",
    "    lessons_num = len(schedule_data)\n",
    "    save_summary(max_iters, tabu_tenure, end_time, start_time, metrics, algorithm, lessons_num)\n",
    "    print('-' * 100)"
   ]
  },
  {
   "cell_type": "code",
   "execution_count": 5,
   "metadata": {},
   "outputs": [],
   "source": [
    "# from datetime import datetime\n",
    "# date_time = datetime.now().strftime(\"%Y-%m-%d_%H-%M-%S\")\n",
    "# with open(f'results/optimized_schedule_{algorithm}_{date_time}.json', 'w', encoding='utf-8') as f:\n",
    "#     json.dump(optimized_schedule, f, indent=4, ensure_ascii=False)\n",
    "\n"
   ]
  },
  {
   "cell_type": "code",
   "execution_count": null,
   "metadata": {},
   "outputs": [],
   "source": []
  }
 ],
 "metadata": {
  "kernelspec": {
   "display_name": ".venv",
   "language": "python",
   "name": "python3"
  },
  "language_info": {
   "codemirror_mode": {
    "name": "ipython",
    "version": 3
   },
   "file_extension": ".py",
   "mimetype": "text/x-python",
   "name": "python",
   "nbconvert_exporter": "python",
   "pygments_lexer": "ipython3",
   "version": "3.12.10"
  }
 },
 "nbformat": 4,
 "nbformat_minor": 2
}
